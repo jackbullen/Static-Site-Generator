{
 "cells": [
  {
   "cell_type": "markdown",
   "metadata": {},
   "source": [
    "# Problem Class\n",
    "\n",
    "| Value | A | B | C | D |\n",
    "|---|---|---|---|---|\n",
    "| A | -1 | 2 | 1 | 7 |\n",
    "| B | 1 | -1 | 3 | 10 |\n",
    "| C | 4 | 12 | -1 | 6 |\n",
    "| D | 2 | 34 | 0 | -1 |\n",
    "\n",
    "Interpret this table as collection of cities that are connected by a cost. \n",
    "\n",
    "*Examples:*\n",
    "\n",
    "- *The cost of going from city A to city B is 2.*\n",
    "\n",
    "- *The cost of going from city B to city A is 1.*\n",
    "\n",
    "- *The cost of going from city C to city D is 6*\n",
    "\n",
    "## Task\n",
    "\n",
    "Write a program that will find the shortest path between two cities.\n",
    "\n",
    "Include a class called Problem that has the following methods for storing the problem data and for finding the least cost paths between two cities:\n",
    "\n",
    "## Example\n",
    "\n",
    "The following code shows how the Problem class can be used to find the least cost path between two cities.\n",
    "\n",
    "```python\n",
    "board = [\n",
    "    [-1, 2, 1, 7],\n",
    "    [1, -1, 3, 10],\n",
    "    [4, 12, -1, 6],\n",
    "    [2, 34, 0, -1]\n",
    "]\n",
    "p = Problem(board)\n",
    "\n",
    "print(p.least_cost_path(0, 3))\n",
    "```"
   ]
  }
 ],
 "metadata": {
  "kernelspec": {
   "display_name": "Python 3",
   "language": "python",
   "name": "python3"
  },
  "language_info": {
   "codemirror_mode": {
    "name": "ipython",
    "version": 3
   },
   "file_extension": ".py",
   "mimetype": "text/x-python",
   "name": "python",
   "nbconvert_exporter": "python",
   "pygments_lexer": "ipython3",
   "version": "3.11.5"
  },
  "orig_nbformat": 4
 },
 "nbformat": 4,
 "nbformat_minor": 2
}
